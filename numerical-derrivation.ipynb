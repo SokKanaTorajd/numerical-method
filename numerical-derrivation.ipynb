{
 "cells": [
  {
   "cell_type": "code",
   "execution_count": 3,
   "metadata": {},
   "outputs": [],
   "source": [
    "# Three point end point\n",
    "def tpep(x, h):\n",
    "    hasil = (1/(2*h)) * (-3*f(x)+4*f(x+1)) - f(x+2)\n",
    "    return hasil\n",
    "\n",
    "# Three point mid point\n",
    "def tpmp(x, h):\n",
    "    hasil = (1/(2*h)) * (f(x+1)-f(x-1))\n",
    "    return hasil\n",
    "\n",
    "# Five point end point\n",
    "def fpep(x, h):\n",
    "    hasil = (1/(12*h)) * (-25*f(x)+48*f(x+1)-36*f(x+2)+16*f(x+3)-3*f(x+4))\n",
    "    return hasil\n",
    "             \n",
    "# Five point mid point             \n",
    "def fpmp(x, h):\n",
    "    hasil = (1/(12*h)) * (f(x-2)-8*f(x-1)+8*f(x+1)-f(x+2))\n",
    "    return hasil"
   ]
  },
  {
   "cell_type": "code",
   "execution_count": 4,
   "metadata": {},
   "outputs": [],
   "source": [
    "# Second TPEP\n",
    "def second_tpep(x, h):\n",
    "    query = [tpep(i,h) for i in range(x+3)]\n",
    "    hasil = (1/(12*h)) * (-3*f(x,query)+4*f(x+1,query)-f(x+2,query))\n",
    "    return hasil\n",
    "\n",
    "# Second TPMP\n",
    "def second_tpmp(x, h):\n",
    "    query = [tpmp(i,h) for i in range(1, x+3)]\n",
    "    hasil = (1/(12*h)) * (f(x+1,query)-f(x-1,query))\n",
    "    return hasil"
   ]
  },
  {
   "cell_type": "code",
   "execution_count": 5,
   "metadata": {},
   "outputs": [],
   "source": [
    "# Third TPMP\n",
    "def third_tpmp(x, h):\n",
    "    query = [second_tpmp(i,h) for i in range(1, x+3)]\n",
    "    hasil = (1/(2*h)) * (f(x,query)-f(x-1,query))\n",
    "    return hasil"
   ]
  },
  {
   "cell_type": "code",
   "execution_count": 9,
   "metadata": {},
   "outputs": [
    {
     "name": "stdout",
     "output_type": "stream",
     "text": [
      "2.4 9.071219999999997\n",
      "2.5 -0.15199999999999841\n",
      "2.7 0.06708333333332872\n"
     ]
    }
   ],
   "source": [
    "if __name__=='__main__':\n",
    "    list_x = [2.4, 2.5, 2.6, 2.7, 2.8, 2.9, 3.0]\n",
    "    list_y = [1.76601, 1.87697, 1.97803, 2.06988, 2.15357, 2.22953, 2.29859]\n",
    "    x0 = 2.4\n",
    "    x1 = 2.5\n",
    "    x2 = 2.7\n",
    "    h = 0.1\n",
    "    def f(x,y=list_y):\n",
    "        return y[x]\n",
    "    \n",
    "    # turunan pertama f(2.4)\n",
    "    if x0 in list_x:\n",
    "        x_index = list_x.index(x0)\n",
    "        print(x0, tpep(x_index,h))\n",
    "    \n",
    "    # turunan kedua f(2.5)    \n",
    "    if x1 in list_x:\n",
    "        x_index = list_x.index(x1)\n",
    "        print(x1, second_tpmp(x_index,h))\n",
    "        \n",
    "    # turunan ketiga f(2.7)    \n",
    "    if x2 in list_x:\n",
    "        print(x2, third_tpmp(1,h))"
   ]
  },
  {
   "cell_type": "code",
   "execution_count": null,
   "metadata": {},
   "outputs": [],
   "source": []
  }
 ],
 "metadata": {
  "kernelspec": {
   "display_name": "Python 3",
   "language": "python",
   "name": "python3"
  },
  "language_info": {
   "codemirror_mode": {
    "name": "ipython",
    "version": 3
   },
   "file_extension": ".py",
   "mimetype": "text/x-python",
   "name": "python",
   "nbconvert_exporter": "python",
   "pygments_lexer": "ipython3",
   "version": "3.7.4"
  }
 },
 "nbformat": 4,
 "nbformat_minor": 4
}
